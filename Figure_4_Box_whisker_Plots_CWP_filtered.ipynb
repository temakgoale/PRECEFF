{
 "cells": [
  {
   "cell_type": "code",
   "execution_count": 1,
   "id": "fe43dca3",
   "metadata": {},
   "outputs": [],
   "source": [
    "import numpy as np\n",
    "import matplotlib.pyplot as plt\n",
    "import xarray as xr\n",
    "import numpy\n",
    "import netCDF4 as nc\n",
    "from scipy.stats import norm\n",
    "from scipy.stats import binned_statistic\n",
    "from scipy.optimize import curve_fit"
   ]
  },
  {
   "cell_type": "code",
   "execution_count": 2,
   "id": "4852886b",
   "metadata": {},
   "outputs": [],
   "source": [
    "basedir = '/input/directory/'\n",
    "models = ['FV3', 'GEOS5', 'ICON', 'HadGEM3', 'NICAM', 'SAM']\n",
    "\n",
    "datasets_0001 = [xr.open_dataset(f\"{basedir}{model}_PRECEFF_less1mm_hr_20160809-20160909_Asia_timeavg.nc\") for model in models]\n",
    "datasets_1 = [xr.open_dataset(f\"{basedir}{model}_PRECEFF_1mm_hr_20160809-20160909_Asia_timeavg.nc\") for model in models]\n",
    "\n",
    "values_0001 = [ds['PRECEFF_TIMEAVG'][0].values[~np.isnan(ds['PRECEFF_TIMEAVG'][0].values)] for ds in datasets_0001]\n",
    "values_1 = [ds['PRECEFF_TIMEAVG'][0].values[~np.isnan(ds['PRECEFF_TIMEAVG'][0].values)] for ds in datasets_1]\n",
    "\n",
    "dataset = values_0001 + values_1\n",
    "colors = ['blue', 'green', 'purple', 'red', 'cyan', 'yellow'] * 2\n",
    "\n",
    "plt.figure(figsize=(18, 14))\n",
    "box = plt.boxplot(dataset, patch_artist=True, showfliers=False)\n",
    "for patch, color in zip(box['boxes'], colors):\n",
    "    patch.set_facecolor('white')\n",
    "    patch.set_edgecolor(color)\n",
    "    patch.set_linewidth(3)\n",
    "\n",
    "for whisker, cap, median in zip(box['whiskers'], box['caps'], box['medians']):\n",
    "    whisker.set(linewidth=3)\n",
    "    cap.set(linewidth=3)\n",
    "    median.set(linewidth=3, color='black')\n",
    "    \n",
    "labels = [f'{model} (<1)' for model in models] + [f'{model} (>1)' for model in models]\n",
    "plt.xticks(ticks=range(1, len(labels) + 1), labels=labels, rotation=60, fontsize=25)\n",
    "plt.yscale('log')\n",
    "plt.ylim((10**-5, 10**-2))\n",
    "plt.ylabel(r'$\\epsilon$ [s$^{-1}$]', fontsize=50)\n",
    "plt.yticks(fontsize=35)\n",
    "plt.xticks(fontsize=35)\n",
    "plt.gca().spines['top'].set_visible(False)\n",
    "plt.gca().spines['right'].set_visible(False)\n",
    "plt.gca().spines['left'].set_linewidth(3)\n",
    "plt.gca().spines['bottom'].set_linewidth(3)\n",
    "plt.savefig('/output/directory/Box_whisker_Plots_CWP_filtered.png', dpi=200, bbox_inches='tight')\n",
    "plt.savefig(\"/output/directory/Box_whisker_Plots_CWP_filtered.pdf\", format=\"pdf\",dpi=200, bbox_inches=\"tight\")"
   ]
  },
  {
   "cell_type": "code",
   "execution_count": null,
   "id": "ea9b7825",
   "metadata": {},
   "outputs": [],
   "source": []
  }
 ],
 "metadata": {
  "kernelspec": {
   "display_name": "Python 3 (ipykernel)",
   "language": "python",
   "name": "python3"
  },
  "language_info": {
   "codemirror_mode": {
    "name": "ipython",
    "version": 3
   },
   "file_extension": ".py",
   "mimetype": "text/x-python",
   "name": "python",
   "nbconvert_exporter": "python",
   "pygments_lexer": "ipython3",
   "version": "3.8.12"
  }
 },
 "nbformat": 4,
 "nbformat_minor": 5
}
